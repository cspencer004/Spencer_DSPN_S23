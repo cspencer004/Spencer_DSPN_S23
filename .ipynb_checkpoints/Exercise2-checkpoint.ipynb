{
 "cells": [
  {
   "cell_type": "markdown",
   "metadata": {
    "id": "w03fKwPgCUvF"
   },
   "source": [
    "# Exercise 2: Coding Habits & Functions"
   ]
  },
  {
   "cell_type": "markdown",
   "metadata": {
    "id": "LORaPMd6CUvH"
   },
   "source": [
    "This assignment will give you some practice writing your own functions and using the coding best practices discussed in the tutorial.\n",
    "\n",
    "---"
   ]
  },
  {
   "cell_type": "markdown",
   "metadata": {
    "id": "5Frpp9i_CUvH"
   },
   "source": [
    "## 1. Summary statistics (4 pts)\n",
    "\n",
    "Write a function that takes a vector of numbers `x` and returns the length, mean, and standard deviation of `x` as a new vector.\n",
    "\n",
    "In keeping with our best practices, give the function a short but descriptive name, and use snake case if it involves multiple words. \n",
    "\n",
    "Hint: Vectors are defined in R using the `c()` command."
   ]
  },
  {
   "cell_type": "code",
   "execution_count": 1,
   "metadata": {
    "id": "1fjCMb3QCUvH"
   },
   "outputs": [],
   "source": [
    "summary_stats <- function(x){\n",
    "    l <- length(na.omit(x))\n",
    "    m <- mean(x, na.rm = TRUE)\n",
    "    s <- sd (x, na.rm = TRUE)\n",
    "    output_vec <- c(l, avg, std)\n",
    "    return(output_vec)\n",
    "}"
   ]
  },
  {
   "cell_type": "markdown",
   "metadata": {
    "id": "97cf6Gy2CUvI"
   },
   "source": [
    "Calculate the summary statistics of vector `v1`."
   ]
  },
  {
   "cell_type": "code",
   "execution_count": 2,
   "metadata": {
    "id": "ayHEMt3dCUvI",
    "scrolled": false
   },
   "outputs": [
    {
     "data": {
      "text/html": [
       "<style>\n",
       ".list-inline {list-style: none; margin:0; padding: 0}\n",
       ".list-inline>li {display: inline-block}\n",
       ".list-inline>li:not(:last-child)::after {content: \"\\00b7\"; padding: 0 .5ex}\n",
       "</style>\n",
       "<ol class=list-inline><li>4</li><li>7.75</li><li>2.75378527364305</li></ol>\n"
      ],
      "text/latex": [
       "\\begin{enumerate*}\n",
       "\\item 4\n",
       "\\item 7.75\n",
       "\\item 2.75378527364305\n",
       "\\end{enumerate*}\n"
      ],
      "text/markdown": [
       "1. 4\n",
       "2. 7.75\n",
       "3. 2.75378527364305\n",
       "\n",
       "\n"
      ],
      "text/plain": [
       "[1] 4.000000 7.750000 2.753785"
      ]
     },
     "metadata": {},
     "output_type": "display_data"
    }
   ],
   "source": [
    "v1  <- c(5, 11, 6, NA, 9)\n",
    "\n",
    "summary_stats(v1)"
   ]
  },
  {
   "cell_type": "markdown",
   "metadata": {
    "id": "iNBkJfDYCUvI"
   },
   "source": [
    "---\n",
    "## 2. T-test function (4 pts)\n",
    "\n",
    "The formula for a t-test is:"
   ]
  },
  {
   "cell_type": "markdown",
   "metadata": {
    "id": "Ng99HeM6CUvJ"
   },
   "source": [
    "$$ \\frac{m- \\mu}{ \\frac{s}{\\sqrt{n}}} $$"
   ]
  },
  {
   "cell_type": "markdown",
   "metadata": {
    "id": "M6nGgoOdCUvJ"
   },
   "source": [
    "Where m is the sample mean, $\\mu$ (mu) is the population mean, s is the standard deviation, and n is the sample size.\n",
    "\n",
    "Using your function above as a starting point, write a new function `ttest_fun` that compares a vector `x` to a given population mean `mu` and calculates the t-statistic. Keep the coding best practices in mind.\n",
    "\n",
    "Hint: You will need to add another argument for mu."
   ]
  },
  {
   "cell_type": "code",
   "execution_count": 6,
   "metadata": {
    "id": "ZFIN01xzCUvJ"
   },
   "outputs": [],
   "source": [
    "ttest_fun <- function(x, mu){\n",
    "    n <- length(na.omit(x))\n",
    "    m <- mean(x, na.rm = TRUE)\n",
    "    s <- sd (x, na.rm = TRUE)\n",
    "    t_stat <- (m-mu)/(s/sqrt(n))\n",
    "    return(t_stat)\n",
    "}"
   ]
  },
  {
   "cell_type": "markdown",
   "metadata": {
    "id": "_urOpud0CUvJ"
   },
   "source": [
    "Use your function to compare the mean of v1 to 10."
   ]
  },
  {
   "cell_type": "code",
   "execution_count": 7,
   "metadata": {
    "id": "RmePnHnTCUvJ"
   },
   "outputs": [
    {
     "data": {
      "text/html": [
       "-1.63411433820577"
      ],
      "text/latex": [
       "-1.63411433820577"
      ],
      "text/markdown": [
       "-1.63411433820577"
      ],
      "text/plain": [
       "[1] -1.634114"
      ]
     },
     "metadata": {},
     "output_type": "display_data"
    }
   ],
   "source": [
    "ttest_fun(v1, 10)"
   ]
  },
  {
   "cell_type": "markdown",
   "metadata": {
    "id": "Oo9-D1RWCUvJ"
   },
   "source": [
    "---\n",
    "## 3. Setting default values (2 pts)\n",
    "\n",
    "Set the default value of mu to 0. Test your modified function below by supplying only `v2` as an argument."
   ]
  },
  {
   "cell_type": "code",
   "execution_count": 8,
   "metadata": {
    "id": "pZKhe8zdCUvJ"
   },
   "outputs": [],
   "source": [
    "ttest_fun <- function(x, mu=0){\n",
    "    n <- length(na.omit(x))\n",
    "    m <- mean(x, na.rm = TRUE)\n",
    "    s <- sd (x, na.rm = TRUE)\n",
    "    t_stat <- (m-mu)/(s/sqrt(n))\n",
    "    return(t_stat)\n",
    "}"
   ]
  },
  {
   "cell_type": "code",
   "execution_count": 9,
   "metadata": {
    "id": "OODPJqyJCUvK"
   },
   "outputs": [
    {
     "data": {
      "text/html": [
       "3.20594367796912"
      ],
      "text/latex": [
       "3.20594367796912"
      ],
      "text/markdown": [
       "3.20594367796912"
      ],
      "text/plain": [
       "[1] 3.205944"
      ]
     },
     "metadata": {},
     "output_type": "display_data"
    }
   ],
   "source": [
    "v2 <- c(3, 7, 1, NA, 8, 12)\n",
    "ttest_fun(v2)"
   ]
  },
  {
   "cell_type": "markdown",
   "metadata": {
    "id": "65KOimuSCUvK"
   },
   "source": [
    "How does your result compare to R's built-in `t.test()` function?"
   ]
  },
  {
   "cell_type": "code",
   "execution_count": 10,
   "metadata": {
    "id": "dIPp2ZmtCUvK",
    "scrolled": true
   },
   "outputs": [
    {
     "data": {
      "text/plain": [
       "\n",
       "\tOne Sample t-test\n",
       "\n",
       "data:  v2\n",
       "t = 3.2059, df = 4, p-value = 0.03272\n",
       "alternative hypothesis: true mean is not equal to 0\n",
       "95 percent confidence interval:\n",
       "  0.8306107 11.5693893\n",
       "sample estimates:\n",
       "mean of x \n",
       "      6.2 \n"
      ]
     },
     "metadata": {},
     "output_type": "display_data"
    }
   ],
   "source": [
    "t.test(v2) #same t statistic from both functions"
   ]
  },
  {
   "cell_type": "markdown",
   "metadata": {
    "id": "2slWzsoYGuLt"
   },
   "source": [
    "When you are finished, save the notebook as Exercise2.ipynb, push it to your class GitHub repository (the one you made for Exercise 1) and send the instructors a link to your notebook via Canvas. You can send messages via Canvas by clicking \"Inbox\" on the left and then pressing the icon with a pencil inside a square."
   ]
  },
  {
   "cell_type": "markdown",
   "metadata": {
    "id": "C4MPECMmZXqe"
   },
   "source": [
    "**DUE:** 5pm EST, Feb 6, 2023"
   ]
  },
  {
   "cell_type": "markdown",
   "metadata": {
    "id": "r9GUofXN4BVy"
   },
   "source": [
    "**IMPORTANT** Did you collaborate with anyone on this assignment? If so, list their names here. \n",
    "> *Someone's Name*"
   ]
  }
 ],
 "metadata": {
  "colab": {
   "provenance": []
  },
  "kernelspec": {
   "display_name": "R",
   "language": "R",
   "name": "ir"
  },
  "language_info": {
   "codemirror_mode": "r",
   "file_extension": ".r",
   "mimetype": "text/x-r-source",
   "name": "R",
   "pygments_lexer": "r",
   "version": "4.2.0"
  }
 },
 "nbformat": 4,
 "nbformat_minor": 1
}
