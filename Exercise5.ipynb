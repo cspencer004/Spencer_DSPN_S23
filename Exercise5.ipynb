{
  "cells": [
    {
      "cell_type": "markdown",
      "metadata": {
        "id": "-2W919d2ZXp7"
      },
      "source": [
        "# Exercise 5: Using ggplot"
      ]
    },
    {
      "cell_type": "markdown",
      "metadata": {
        "id": "L4nOzVhyZXqK"
      },
      "source": [
        "This homework assignment is designed to get you comfortable working with `ggplot` for generating data visualizations.\n",
        "\n",
        "We will be using the [gapminder](https://cran.r-project.org/web/packages/gapminder/index.html) dataset. It contains  information about population, life expectancy and per capita GDP by country over time."
      ]
    },
    {
      "cell_type": "markdown",
      "metadata": {
        "id": "htJuWS3CSHHK"
      },
      "source": [
        "---\n",
        "# 1. Color, plot type and layers (6 points)"
      ]
    },
    {
      "cell_type": "markdown",
      "metadata": {
        "id": "QiP1zpqISHHM"
      },
      "source": [
        "Install and load the `gapminder` dataset. Look at the first few rows of the data frame."
      ]
    },
    {
      "cell_type": "code",
      "execution_count": null,
      "metadata": {
        "id": "GGpoaSPlSHHM"
      },
      "outputs": [],
      "source": [
        "# INSERT CODE HERE\n"
      ]
    },
    {
      "cell_type": "markdown",
      "metadata": {
        "id": "e1_GFLioSHHO"
      },
      "source": [
        "Now, let's create a basic scatterplot using `ggplot2` that shows how life expectancy has changed over time."
      ]
    },
    {
      "cell_type": "code",
      "execution_count": null,
      "metadata": {
        "id": "KmjzXxyQSHHP"
      },
      "outputs": [],
      "source": [
        "# INSERT CODE HERE\n"
      ]
    },
    {
      "cell_type": "markdown",
      "metadata": {
        "id": "Ju3aZ5AlSHHP"
      },
      "source": [
        "We can add another layer of detail by using color to indicate continent. Modify the code from the previous question to to do so. \n",
        "\n",
        "What trends can you identify in the data? "
      ]
    },
    {
      "cell_type": "code",
      "execution_count": null,
      "metadata": {
        "id": "Hj53hqlASHHP"
      },
      "outputs": [],
      "source": [
        "# INSERT CODE HERE\n"
      ]
    },
    {
      "cell_type": "markdown",
      "metadata": {
        "id": "b822fG00SHHQ"
      },
      "source": [
        "> *Write your response here.*\n",
        "> * The general trend seems to indicate an increased life expectancy over the years. Continents with stronger economies tend to have longer life expectancies."
      ]
    },
    {
      "cell_type": "markdown",
      "metadata": {
        "id": "VDsb0jOLSHHQ"
      },
      "source": [
        "Using a scatterplot probably isn’t the best type of plot for effectively visualizing change over time. Instead, modify the code from the previous question to create a line plot. "
      ]
    },
    {
      "cell_type": "code",
      "execution_count": null,
      "metadata": {
        "id": "4emTJe_ESHHS"
      },
      "outputs": [],
      "source": [
        "# INSERT CODE HERE\n"
      ]
    },
    {
      "cell_type": "markdown",
      "metadata": {
        "id": "pjUKLj3NSHHS"
      },
      "source": [
        "Hmm, this plot looks a bit weird and unexpected, making it difficult for us to easily interpret the data trends. What is causing this?"
      ]
    },
    {
      "cell_type": "markdown",
      "metadata": {
        "id": "b8r9NBtnSHHT"
      },
      "source": [
        "> *Write your response here.*\n",
        "> * The line seems to be jumping around a lot in each continent. "
      ]
    },
    {
      "cell_type": "markdown",
      "metadata": {
        "id": "ghfG8kCzSHHT"
      },
      "source": [
        "Now, let’s try to separate the data by country, plotting one line for each country. Modify the code from the previous plot to do so."
      ]
    },
    {
      "cell_type": "code",
      "execution_count": null,
      "metadata": {
        "id": "s1J8IQimSHHT"
      },
      "outputs": [],
      "source": [
        "# INSERT CODE HERE\n"
      ]
    },
    {
      "cell_type": "markdown",
      "metadata": {
        "id": "3ShKYKJ-SHHT"
      },
      "source": [
        "But what if we want to visualize both lines and points on our graph? There are two primary ways to do this - taking advantage of what we know about using layers for ggplot (each layer is drawn on top of the previous layer). \n",
        "\n",
        "* Method 1: Plot black points on top of the colorful lines\n",
        "* Method 2: Plot black points underneath the colorful lines\n",
        "\n",
        "Modify the code from the previous question to create two plots, one for each method.\n",
        "\n",
        "*Hint: to control the color of the points, think about where the aesthetic color attribute should be located e.g., in the global plot options or in a specific layer.*"
      ]
    },
    {
      "cell_type": "code",
      "execution_count": null,
      "metadata": {
        "id": "nzFF0d5ySHHU"
      },
      "outputs": [],
      "source": [
        "# INSERT CODE HERE\n",
        "\n",
        "# method 1\n",
        "\n"
      ]
    },
    {
      "cell_type": "code",
      "execution_count": null,
      "metadata": {
        "id": "V8_eJ6k7SHHU"
      },
      "outputs": [],
      "source": [
        "# INSERT CODE HERE\n",
        "\n",
        "# method 2\n"
      ]
    },
    {
      "cell_type": "code",
      "execution_count": null,
      "metadata": {
        "id": "zFhHme-USHHU"
      },
      "outputs": [],
      "source": [
        "# Aside: colorful points\n"
      ]
    },
    {
      "cell_type": "markdown",
      "metadata": {
        "id": "ygWbJx15SHHV"
      },
      "source": [
        "---\n",
        "# 2. Adding statistics (4 points)"
      ]
    },
    {
      "cell_type": "markdown",
      "metadata": {
        "id": "maoHqHa0SHHV"
      },
      "source": [
        "`ggplot2` allows easy overlay of statistical models on top of the data. \n",
        "\n",
        "The graph below shows the relationship between life expectency and GDP per capita:"
      ]
    },
    {
      "cell_type": "code",
      "execution_count": null,
      "metadata": {
        "id": "u5Ye0FbqSHHV"
      },
      "outputs": [],
      "source": [
        "# INSERT CODE HERE\n",
        "\n"
      ]
    },
    {
      "cell_type": "markdown",
      "metadata": {
        "id": "fD8oMqiJSHHW"
      },
      "source": [
        "However, the data points are squished close together on the left side of the graph, so it's hard to see the actual relationship we're interested in.\n",
        "\n",
        "To fix this, we can change the scale of x-axis units using the scale functions. We can also make the data points transparent using the alpha function. This is helpful when there is a large amount of clustered data.\n",
        "\n",
        "Modify the code above to incorporate these two changes (scale and transparency)."
      ]
    },
    {
      "cell_type": "code",
      "execution_count": null,
      "metadata": {
        "id": "h9YDq2SbSHHW"
      },
      "outputs": [],
      "source": [
        "# INSERT CODE HERE\n"
      ]
    },
    {
      "cell_type": "markdown",
      "metadata": {
        "id": "jZCMo65aSHHW"
      },
      "source": [
        "Already we can more easily visualize the trend in the data. \n",
        "\n",
        "Next, let's overlay statistics by fiting a simple relationship to the data. Modify the code from the previous question by adding a `geom_smooth` layer."
      ]
    },
    {
      "cell_type": "code",
      "execution_count": null,
      "metadata": {
        "id": "TCSlDbAFSHHW"
      },
      "outputs": [],
      "source": [
        "# INSERT CODE HERE\n"
      ]
    },
    {
      "cell_type": "markdown",
      "metadata": {
        "id": "WD7khpFSSHHW"
      },
      "source": [
        "Again, we can add a layer of detail by introducing separate colors for each continent. We can also create individual trendlines for each continent, instead of only one trendline.\n",
        "\n",
        "Modify the code from the previous question to add these elements. \n"
      ]
    },
    {
      "cell_type": "code",
      "execution_count": null,
      "metadata": {
        "id": "iFqQ654vSHHX"
      },
      "outputs": [],
      "source": [
        "# INSERT CODE HERE\n",
        "\n"
      ]
    },
    {
      "cell_type": "markdown",
      "metadata": {
        "id": "2slWzsoYGuLt"
      },
      "source": [
        "When you are finished, save the notebook as Exercise5.ipynb, push it to your class GitHub repository and send the instructors a link to your notebook via Canvas. "
      ]
    },
    {
      "cell_type": "markdown",
      "metadata": {
        "id": "C4MPECMmZXqe"
      },
      "source": [
        "**DUE:** 5pm EST, Feb 15, 2023"
      ]
    },
    {
      "cell_type": "markdown",
      "metadata": {
        "id": "r9GUofXN4BVy"
      },
      "source": [
        "**IMPORTANT** Did you collaborate with anyone on this assignment? If so, list their names here. \n",
        "> *Someone's Name*"
      ]
    }
  ],
  "metadata": {
    "colab": {
      "provenance": []
    },
    "kernelspec": {
      "display_name": "R",
      "language": "R",
      "name": "ir"
    },
    "language_info": {
      "codemirror_mode": "r",
      "file_extension": ".r",
      "mimetype": "text/x-r-source",
      "name": "R",
      "pygments_lexer": "r",
      "version": "4.2.0"
    }
  },
  "nbformat": 4,
  "nbformat_minor": 0
}